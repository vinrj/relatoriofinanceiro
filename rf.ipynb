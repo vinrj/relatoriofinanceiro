{
 "cells": [
  {
   "cell_type": "code",
   "execution_count": 63,
   "id": "8d08bebe-80d1-4196-b31f-9d199c43d32a",
   "metadata": {},
   "outputs": [
    {
     "name": "stdout",
     "output_type": "stream",
     "text": [
      "Requirement already satisfied: mplcyberpunk in c:\\users\\vinicius\\anaconda3\\lib\\site-packages (0.7.1)\n",
      "Requirement already satisfied: matplotlib in c:\\users\\vinicius\\anaconda3\\lib\\site-packages (from mplcyberpunk) (3.8.0)\n",
      "Requirement already satisfied: contourpy>=1.0.1 in c:\\users\\vinicius\\anaconda3\\lib\\site-packages (from matplotlib->mplcyberpunk) (1.2.0)\n",
      "Requirement already satisfied: cycler>=0.10 in c:\\users\\vinicius\\anaconda3\\lib\\site-packages (from matplotlib->mplcyberpunk) (0.11.0)\n",
      "Requirement already satisfied: fonttools>=4.22.0 in c:\\users\\vinicius\\anaconda3\\lib\\site-packages (from matplotlib->mplcyberpunk) (4.25.0)\n",
      "Requirement already satisfied: kiwisolver>=1.0.1 in c:\\users\\vinicius\\anaconda3\\lib\\site-packages (from matplotlib->mplcyberpunk) (1.4.4)\n",
      "Requirement already satisfied: numpy<2,>=1.21 in c:\\users\\vinicius\\anaconda3\\lib\\site-packages (from matplotlib->mplcyberpunk) (1.26.4)\n",
      "Requirement already satisfied: packaging>=20.0 in c:\\users\\vinicius\\anaconda3\\lib\\site-packages (from matplotlib->mplcyberpunk) (23.1)\n",
      "Requirement already satisfied: pillow>=6.2.0 in c:\\users\\vinicius\\anaconda3\\lib\\site-packages (from matplotlib->mplcyberpunk) (10.2.0)\n",
      "Requirement already satisfied: pyparsing>=2.3.1 in c:\\users\\vinicius\\anaconda3\\lib\\site-packages (from matplotlib->mplcyberpunk) (3.0.9)\n",
      "Requirement already satisfied: python-dateutil>=2.7 in c:\\users\\vinicius\\anaconda3\\lib\\site-packages (from matplotlib->mplcyberpunk) (2.8.2)\n",
      "Requirement already satisfied: six>=1.5 in c:\\users\\vinicius\\anaconda3\\lib\\site-packages (from python-dateutil>=2.7->matplotlib->mplcyberpunk) (1.16.0)\n"
     ]
    }
   ],
   "source": [
    "!pip install mplcyberpunk"
   ]
  },
  {
   "cell_type": "code",
   "execution_count": 64,
   "id": "6fc4bfcf-aeac-44b5-9ac2-9f74819b523d",
   "metadata": {},
   "outputs": [
    {
     "name": "stdout",
     "output_type": "stream",
     "text": [
      "Requirement already satisfied: yfinance==0.2.40 in c:\\users\\vinicius\\anaconda3\\lib\\site-packages (0.2.40)\n",
      "Requirement already satisfied: pandas>=1.3.0 in c:\\users\\vinicius\\anaconda3\\lib\\site-packages (from yfinance==0.2.40) (2.1.4)\n",
      "Requirement already satisfied: numpy>=1.16.5 in c:\\users\\vinicius\\anaconda3\\lib\\site-packages (from yfinance==0.2.40) (1.26.4)\n",
      "Requirement already satisfied: requests>=2.31 in c:\\users\\vinicius\\anaconda3\\lib\\site-packages (from yfinance==0.2.40) (2.31.0)\n",
      "Requirement already satisfied: multitasking>=0.0.7 in c:\\users\\vinicius\\anaconda3\\lib\\site-packages (from yfinance==0.2.40) (0.0.11)\n",
      "Requirement already satisfied: lxml>=4.9.1 in c:\\users\\vinicius\\anaconda3\\lib\\site-packages (from yfinance==0.2.40) (4.9.3)\n",
      "Requirement already satisfied: platformdirs>=2.0.0 in c:\\users\\vinicius\\anaconda3\\lib\\site-packages (from yfinance==0.2.40) (3.10.0)\n",
      "Requirement already satisfied: pytz>=2022.5 in c:\\users\\vinicius\\anaconda3\\lib\\site-packages (from yfinance==0.2.40) (2023.3.post1)\n",
      "Requirement already satisfied: frozendict>=2.3.4 in c:\\users\\vinicius\\anaconda3\\lib\\site-packages (from yfinance==0.2.40) (2.4.4)\n",
      "Requirement already satisfied: peewee>=3.16.2 in c:\\users\\vinicius\\anaconda3\\lib\\site-packages (from yfinance==0.2.40) (3.17.6)\n",
      "Requirement already satisfied: beautifulsoup4>=4.11.1 in c:\\users\\vinicius\\anaconda3\\lib\\site-packages (from yfinance==0.2.40) (4.12.2)\n",
      "Requirement already satisfied: html5lib>=1.1 in c:\\users\\vinicius\\anaconda3\\lib\\site-packages (from yfinance==0.2.40) (1.1)\n",
      "Requirement already satisfied: soupsieve>1.2 in c:\\users\\vinicius\\anaconda3\\lib\\site-packages (from beautifulsoup4>=4.11.1->yfinance==0.2.40) (2.5)\n",
      "Requirement already satisfied: six>=1.9 in c:\\users\\vinicius\\anaconda3\\lib\\site-packages (from html5lib>=1.1->yfinance==0.2.40) (1.16.0)\n",
      "Requirement already satisfied: webencodings in c:\\users\\vinicius\\anaconda3\\lib\\site-packages (from html5lib>=1.1->yfinance==0.2.40) (0.5.1)\n",
      "Requirement already satisfied: python-dateutil>=2.8.2 in c:\\users\\vinicius\\anaconda3\\lib\\site-packages (from pandas>=1.3.0->yfinance==0.2.40) (2.8.2)\n",
      "Requirement already satisfied: tzdata>=2022.1 in c:\\users\\vinicius\\anaconda3\\lib\\site-packages (from pandas>=1.3.0->yfinance==0.2.40) (2023.3)\n",
      "Requirement already satisfied: charset-normalizer<4,>=2 in c:\\users\\vinicius\\anaconda3\\lib\\site-packages (from requests>=2.31->yfinance==0.2.40) (2.0.4)\n",
      "Requirement already satisfied: idna<4,>=2.5 in c:\\users\\vinicius\\anaconda3\\lib\\site-packages (from requests>=2.31->yfinance==0.2.40) (3.4)\n",
      "Requirement already satisfied: urllib3<3,>=1.21.1 in c:\\users\\vinicius\\anaconda3\\lib\\site-packages (from requests>=2.31->yfinance==0.2.40) (2.0.7)\n",
      "Requirement already satisfied: certifi>=2017.4.17 in c:\\users\\vinicius\\anaconda3\\lib\\site-packages (from requests>=2.31->yfinance==0.2.40) (2024.2.2)\n"
     ]
    }
   ],
   "source": [
    "!pip install yfinance==0.2.40"
   ]
  },
  {
   "cell_type": "code",
   "execution_count": 10,
   "id": "c42c81c9-8ffa-4640-9fc3-441b2b2d0a90",
   "metadata": {},
   "outputs": [],
   "source": [
    "import yfinance as yf\n",
    "import pandas as pd\n",
    "import matplotlib.pyplot as plt\n",
    "import mplcyberpunk"
   ]
  },
  {
   "cell_type": "code",
   "execution_count": 11,
   "id": "197c0f23-5a50-40ec-9f0f-5dd0b4513d07",
   "metadata": {},
   "outputs": [],
   "source": [
    "tickers = [\"^BVSP\", \"^GSPC\", \"BRL=X\"]"
   ]
  },
  {
   "cell_type": "code",
   "execution_count": 12,
   "id": "f66055c2-ba19-49d0-b72a-8f5de188a7d3",
   "metadata": {},
   "outputs": [
    {
     "name": "stderr",
     "output_type": "stream",
     "text": [
      "[*********************100%%**********************]  3 of 3 completed\n"
     ]
    },
    {
     "data": {
      "text/html": [
       "<div>\n",
       "<style scoped>\n",
       "    .dataframe tbody tr th:only-of-type {\n",
       "        vertical-align: middle;\n",
       "    }\n",
       "\n",
       "    .dataframe tbody tr th {\n",
       "        vertical-align: top;\n",
       "    }\n",
       "\n",
       "    .dataframe thead th {\n",
       "        text-align: right;\n",
       "    }\n",
       "</style>\n",
       "<table border=\"1\" class=\"dataframe\">\n",
       "  <thead>\n",
       "    <tr style=\"text-align: right;\">\n",
       "      <th>Ticker</th>\n",
       "      <th>BRL=X</th>\n",
       "      <th>^BVSP</th>\n",
       "      <th>^GSPC</th>\n",
       "    </tr>\n",
       "    <tr>\n",
       "      <th>Date</th>\n",
       "      <th></th>\n",
       "      <th></th>\n",
       "      <th></th>\n",
       "    </tr>\n",
       "  </thead>\n",
       "  <tbody>\n",
       "    <tr>\n",
       "      <th>2024-03-13</th>\n",
       "      <td>4.968700</td>\n",
       "      <td>128006.000000</td>\n",
       "      <td>NaN</td>\n",
       "    </tr>\n",
       "    <tr>\n",
       "      <th>2024-03-14</th>\n",
       "      <td>4.969200</td>\n",
       "      <td>127690.000000</td>\n",
       "      <td>5150.479980</td>\n",
       "    </tr>\n",
       "    <tr>\n",
       "      <th>2024-03-15</th>\n",
       "      <td>4.992700</td>\n",
       "      <td>126742.000000</td>\n",
       "      <td>5117.089844</td>\n",
       "    </tr>\n",
       "    <tr>\n",
       "      <th>2024-03-18</th>\n",
       "      <td>4.968047</td>\n",
       "      <td>126954.000000</td>\n",
       "      <td>5149.419922</td>\n",
       "    </tr>\n",
       "    <tr>\n",
       "      <th>2024-03-19</th>\n",
       "      <td>5.029400</td>\n",
       "      <td>127529.000000</td>\n",
       "      <td>5178.509766</td>\n",
       "    </tr>\n",
       "    <tr>\n",
       "      <th>...</th>\n",
       "      <td>...</td>\n",
       "      <td>...</td>\n",
       "      <td>...</td>\n",
       "    </tr>\n",
       "    <tr>\n",
       "      <th>2024-09-09</th>\n",
       "      <td>5.596600</td>\n",
       "      <td>134737.000000</td>\n",
       "      <td>5471.049805</td>\n",
       "    </tr>\n",
       "    <tr>\n",
       "      <th>2024-09-10</th>\n",
       "      <td>5.584300</td>\n",
       "      <td>134320.000000</td>\n",
       "      <td>5495.520020</td>\n",
       "    </tr>\n",
       "    <tr>\n",
       "      <th>2024-09-11</th>\n",
       "      <td>5.662900</td>\n",
       "      <td>134677.000000</td>\n",
       "      <td>5554.129883</td>\n",
       "    </tr>\n",
       "    <tr>\n",
       "      <th>2024-09-12</th>\n",
       "      <td>5.667400</td>\n",
       "      <td>134029.000000</td>\n",
       "      <td>5595.759766</td>\n",
       "    </tr>\n",
       "    <tr>\n",
       "      <th>2024-09-13</th>\n",
       "      <td>5.567400</td>\n",
       "      <td>134881.953125</td>\n",
       "      <td>5626.020020</td>\n",
       "    </tr>\n",
       "  </tbody>\n",
       "</table>\n",
       "<p>133 rows × 3 columns</p>\n",
       "</div>"
      ],
      "text/plain": [
       "Ticker         BRL=X          ^BVSP        ^GSPC\n",
       "Date                                            \n",
       "2024-03-13  4.968700  128006.000000          NaN\n",
       "2024-03-14  4.969200  127690.000000  5150.479980\n",
       "2024-03-15  4.992700  126742.000000  5117.089844\n",
       "2024-03-18  4.968047  126954.000000  5149.419922\n",
       "2024-03-19  5.029400  127529.000000  5178.509766\n",
       "...              ...            ...          ...\n",
       "2024-09-09  5.596600  134737.000000  5471.049805\n",
       "2024-09-10  5.584300  134320.000000  5495.520020\n",
       "2024-09-11  5.662900  134677.000000  5554.129883\n",
       "2024-09-12  5.667400  134029.000000  5595.759766\n",
       "2024-09-13  5.567400  134881.953125  5626.020020\n",
       "\n",
       "[133 rows x 3 columns]"
      ]
     },
     "execution_count": 12,
     "metadata": {},
     "output_type": "execute_result"
    }
   ],
   "source": [
    "dados_mercado = yf.download(tickers, period = '6mo')\n",
    "dados_mercado = dados_mercado[\"Adj Close\"]\n",
    "dados_mercado"
   ]
  },
  {
   "cell_type": "code",
   "execution_count": 13,
   "id": "32c9624b-a3bd-44fe-8647-9cd541a81341",
   "metadata": {},
   "outputs": [
    {
     "data": {
      "text/html": [
       "<div>\n",
       "<style scoped>\n",
       "    .dataframe tbody tr th:only-of-type {\n",
       "        vertical-align: middle;\n",
       "    }\n",
       "\n",
       "    .dataframe tbody tr th {\n",
       "        vertical-align: top;\n",
       "    }\n",
       "\n",
       "    .dataframe thead th {\n",
       "        text-align: right;\n",
       "    }\n",
       "</style>\n",
       "<table border=\"1\" class=\"dataframe\">\n",
       "  <thead>\n",
       "    <tr style=\"text-align: right;\">\n",
       "      <th>Ticker</th>\n",
       "      <th>BRL=X</th>\n",
       "      <th>^BVSP</th>\n",
       "      <th>^GSPC</th>\n",
       "    </tr>\n",
       "    <tr>\n",
       "      <th>Date</th>\n",
       "      <th></th>\n",
       "      <th></th>\n",
       "      <th></th>\n",
       "    </tr>\n",
       "  </thead>\n",
       "  <tbody>\n",
       "    <tr>\n",
       "      <th>2024-03-14</th>\n",
       "      <td>4.969200</td>\n",
       "      <td>127690.000000</td>\n",
       "      <td>5150.479980</td>\n",
       "    </tr>\n",
       "    <tr>\n",
       "      <th>2024-03-15</th>\n",
       "      <td>4.992700</td>\n",
       "      <td>126742.000000</td>\n",
       "      <td>5117.089844</td>\n",
       "    </tr>\n",
       "    <tr>\n",
       "      <th>2024-03-18</th>\n",
       "      <td>4.968047</td>\n",
       "      <td>126954.000000</td>\n",
       "      <td>5149.419922</td>\n",
       "    </tr>\n",
       "    <tr>\n",
       "      <th>2024-03-19</th>\n",
       "      <td>5.029400</td>\n",
       "      <td>127529.000000</td>\n",
       "      <td>5178.509766</td>\n",
       "    </tr>\n",
       "    <tr>\n",
       "      <th>2024-03-20</th>\n",
       "      <td>5.030000</td>\n",
       "      <td>129125.000000</td>\n",
       "      <td>5224.620117</td>\n",
       "    </tr>\n",
       "    <tr>\n",
       "      <th>...</th>\n",
       "      <td>...</td>\n",
       "      <td>...</td>\n",
       "      <td>...</td>\n",
       "    </tr>\n",
       "    <tr>\n",
       "      <th>2024-09-09</th>\n",
       "      <td>5.596600</td>\n",
       "      <td>134737.000000</td>\n",
       "      <td>5471.049805</td>\n",
       "    </tr>\n",
       "    <tr>\n",
       "      <th>2024-09-10</th>\n",
       "      <td>5.584300</td>\n",
       "      <td>134320.000000</td>\n",
       "      <td>5495.520020</td>\n",
       "    </tr>\n",
       "    <tr>\n",
       "      <th>2024-09-11</th>\n",
       "      <td>5.662900</td>\n",
       "      <td>134677.000000</td>\n",
       "      <td>5554.129883</td>\n",
       "    </tr>\n",
       "    <tr>\n",
       "      <th>2024-09-12</th>\n",
       "      <td>5.667400</td>\n",
       "      <td>134029.000000</td>\n",
       "      <td>5595.759766</td>\n",
       "    </tr>\n",
       "    <tr>\n",
       "      <th>2024-09-13</th>\n",
       "      <td>5.567400</td>\n",
       "      <td>134881.953125</td>\n",
       "      <td>5626.020020</td>\n",
       "    </tr>\n",
       "  </tbody>\n",
       "</table>\n",
       "<p>125 rows × 3 columns</p>\n",
       "</div>"
      ],
      "text/plain": [
       "Ticker         BRL=X          ^BVSP        ^GSPC\n",
       "Date                                            \n",
       "2024-03-14  4.969200  127690.000000  5150.479980\n",
       "2024-03-15  4.992700  126742.000000  5117.089844\n",
       "2024-03-18  4.968047  126954.000000  5149.419922\n",
       "2024-03-19  5.029400  127529.000000  5178.509766\n",
       "2024-03-20  5.030000  129125.000000  5224.620117\n",
       "...              ...            ...          ...\n",
       "2024-09-09  5.596600  134737.000000  5471.049805\n",
       "2024-09-10  5.584300  134320.000000  5495.520020\n",
       "2024-09-11  5.662900  134677.000000  5554.129883\n",
       "2024-09-12  5.667400  134029.000000  5595.759766\n",
       "2024-09-13  5.567400  134881.953125  5626.020020\n",
       "\n",
       "[125 rows x 3 columns]"
      ]
     },
     "execution_count": 13,
     "metadata": {},
     "output_type": "execute_result"
    }
   ],
   "source": [
    "dados_mercado = dados_mercado.dropna() \n",
    "\n",
    "dados_mercado"
   ]
  },
  {
   "cell_type": "code",
   "execution_count": 14,
   "id": "29f34388-312d-4ebf-b744-f68836fef559",
   "metadata": {},
   "outputs": [
    {
     "data": {
      "text/html": [
       "<div>\n",
       "<style scoped>\n",
       "    .dataframe tbody tr th:only-of-type {\n",
       "        vertical-align: middle;\n",
       "    }\n",
       "\n",
       "    .dataframe tbody tr th {\n",
       "        vertical-align: top;\n",
       "    }\n",
       "\n",
       "    .dataframe thead th {\n",
       "        text-align: right;\n",
       "    }\n",
       "</style>\n",
       "<table border=\"1\" class=\"dataframe\">\n",
       "  <thead>\n",
       "    <tr style=\"text-align: right;\">\n",
       "      <th></th>\n",
       "      <th>DOLAR</th>\n",
       "      <th>IBOVESPA</th>\n",
       "      <th>S&amp;P500</th>\n",
       "    </tr>\n",
       "    <tr>\n",
       "      <th>Date</th>\n",
       "      <th></th>\n",
       "      <th></th>\n",
       "      <th></th>\n",
       "    </tr>\n",
       "  </thead>\n",
       "  <tbody>\n",
       "    <tr>\n",
       "      <th>2024-03-14</th>\n",
       "      <td>4.969200</td>\n",
       "      <td>127690.000000</td>\n",
       "      <td>5150.479980</td>\n",
       "    </tr>\n",
       "    <tr>\n",
       "      <th>2024-03-15</th>\n",
       "      <td>4.992700</td>\n",
       "      <td>126742.000000</td>\n",
       "      <td>5117.089844</td>\n",
       "    </tr>\n",
       "    <tr>\n",
       "      <th>2024-03-18</th>\n",
       "      <td>4.968047</td>\n",
       "      <td>126954.000000</td>\n",
       "      <td>5149.419922</td>\n",
       "    </tr>\n",
       "    <tr>\n",
       "      <th>2024-03-19</th>\n",
       "      <td>5.029400</td>\n",
       "      <td>127529.000000</td>\n",
       "      <td>5178.509766</td>\n",
       "    </tr>\n",
       "    <tr>\n",
       "      <th>2024-03-20</th>\n",
       "      <td>5.030000</td>\n",
       "      <td>129125.000000</td>\n",
       "      <td>5224.620117</td>\n",
       "    </tr>\n",
       "    <tr>\n",
       "      <th>...</th>\n",
       "      <td>...</td>\n",
       "      <td>...</td>\n",
       "      <td>...</td>\n",
       "    </tr>\n",
       "    <tr>\n",
       "      <th>2024-09-09</th>\n",
       "      <td>5.596600</td>\n",
       "      <td>134737.000000</td>\n",
       "      <td>5471.049805</td>\n",
       "    </tr>\n",
       "    <tr>\n",
       "      <th>2024-09-10</th>\n",
       "      <td>5.584300</td>\n",
       "      <td>134320.000000</td>\n",
       "      <td>5495.520020</td>\n",
       "    </tr>\n",
       "    <tr>\n",
       "      <th>2024-09-11</th>\n",
       "      <td>5.662900</td>\n",
       "      <td>134677.000000</td>\n",
       "      <td>5554.129883</td>\n",
       "    </tr>\n",
       "    <tr>\n",
       "      <th>2024-09-12</th>\n",
       "      <td>5.667400</td>\n",
       "      <td>134029.000000</td>\n",
       "      <td>5595.759766</td>\n",
       "    </tr>\n",
       "    <tr>\n",
       "      <th>2024-09-13</th>\n",
       "      <td>5.567400</td>\n",
       "      <td>134881.953125</td>\n",
       "      <td>5626.020020</td>\n",
       "    </tr>\n",
       "  </tbody>\n",
       "</table>\n",
       "<p>125 rows × 3 columns</p>\n",
       "</div>"
      ],
      "text/plain": [
       "               DOLAR       IBOVESPA       S&P500\n",
       "Date                                            \n",
       "2024-03-14  4.969200  127690.000000  5150.479980\n",
       "2024-03-15  4.992700  126742.000000  5117.089844\n",
       "2024-03-18  4.968047  126954.000000  5149.419922\n",
       "2024-03-19  5.029400  127529.000000  5178.509766\n",
       "2024-03-20  5.030000  129125.000000  5224.620117\n",
       "...              ...            ...          ...\n",
       "2024-09-09  5.596600  134737.000000  5471.049805\n",
       "2024-09-10  5.584300  134320.000000  5495.520020\n",
       "2024-09-11  5.662900  134677.000000  5554.129883\n",
       "2024-09-12  5.667400  134029.000000  5595.759766\n",
       "2024-09-13  5.567400  134881.953125  5626.020020\n",
       "\n",
       "[125 rows x 3 columns]"
      ]
     },
     "execution_count": 14,
     "metadata": {},
     "output_type": "execute_result"
    }
   ],
   "source": [
    "dados_mercado.columns = [\"DOLAR\", \"IBOVESPA\", \"S&P500\"] \n",
    "\n",
    "dados_mercado"
   ]
  },
  {
   "cell_type": "code",
   "execution_count": 15,
   "id": "f8161da0-2926-4996-980e-1650f58f2630",
   "metadata": {},
   "outputs": [],
   "source": [
    "plt.style.use(\"cyberpunk\") "
   ]
  },
  {
   "cell_type": "code",
   "execution_count": 16,
   "id": "de3fa50e-a78e-4260-bf28-15301e133e99",
   "metadata": {},
   "outputs": [
    {
     "data": {
      "image/png": "[encoded data removed]",
      "text/plain": [
       "<Figure size 640x480 with 1 Axes>"
      ]
     },
     "metadata": {},
     "output_type": "display_data"
    }
   ],
   "source": [
    "plt.plot(dados_mercado[\"IBOVESPA\"])\n",
    "plt.title(\"IBOVESPA\") \n",
    "\n",
    "plt.savefig(\"ibovespa.png\")"
   ]
  },
  {
   "cell_type": "code",
   "execution_count": 17,
   "id": "82778cc6-0065-4aa2-8a5c-4545f1a08ced",
   "metadata": {},
   "outputs": [
    {
     "data": {
      "image/png": "[encoded data removed]",
      "text/plain": [
       "<Figure size 640x480 with 1 Axes>"
      ]
     },
     "metadata": {},
     "output_type": "display_data"
    }
   ],
   "source": [
    "plt.plot(dados_mercado[\"DOLAR\"])\n",
    "plt.title(\"DOLAR\") \n",
    "\n",
    "plt.savefig(\"dolar.png\")"
   ]
  },
  {
   "cell_type": "code",
   "execution_count": 18,
   "id": "3152d629-136e-4f7b-86bc-e6d63c3023a5",
   "metadata": {},
   "outputs": [
    {
     "data": {
      "image/png": "[encoded data removed]",
      "text/plain": [
       "<Figure size 640x480 with 1 Axes>"
      ]
     },
     "metadata": {},
     "output_type": "display_data"
    }
   ],
   "source": [
    "plt.plot(dados_mercado[\"S&P500\"])\n",
    "plt.title(\"S&P500\") \n",
    "\n",
    "plt.savefig(\"sp500.png\")"
   ]
  },
  {
   "cell_type": "code",
   "execution_count": 19,
   "id": "3fbfb714-b89d-4314-bbc3-fed1831096e4",
   "metadata": {},
   "outputs": [
    {
     "data": {
      "text/html": [
       "<div>\n",
       "<style scoped>\n",
       "    .dataframe tbody tr th:only-of-type {\n",
       "        vertical-align: middle;\n",
       "    }\n",
       "\n",
       "    .dataframe tbody tr th {\n",
       "        vertical-align: top;\n",
       "    }\n",
       "\n",
       "    .dataframe thead th {\n",
       "        text-align: right;\n",
       "    }\n",
       "</style>\n",
       "<table border=\"1\" class=\"dataframe\">\n",
       "  <thead>\n",
       "    <tr style=\"text-align: right;\">\n",
       "      <th></th>\n",
       "      <th>DOLAR</th>\n",
       "      <th>IBOVESPA</th>\n",
       "      <th>S&amp;P500</th>\n",
       "    </tr>\n",
       "    <tr>\n",
       "      <th>Date</th>\n",
       "      <th></th>\n",
       "      <th></th>\n",
       "      <th></th>\n",
       "    </tr>\n",
       "  </thead>\n",
       "  <tbody>\n",
       "    <tr>\n",
       "      <th>2024-03-14</th>\n",
       "      <td>NaN</td>\n",
       "      <td>NaN</td>\n",
       "      <td>NaN</td>\n",
       "    </tr>\n",
       "    <tr>\n",
       "      <th>2024-03-15</th>\n",
       "      <td>0.004729</td>\n",
       "      <td>-0.007424</td>\n",
       "      <td>-0.006483</td>\n",
       "    </tr>\n",
       "    <tr>\n",
       "      <th>2024-03-18</th>\n",
       "      <td>-0.004938</td>\n",
       "      <td>0.001673</td>\n",
       "      <td>0.006318</td>\n",
       "    </tr>\n",
       "    <tr>\n",
       "      <th>2024-03-19</th>\n",
       "      <td>0.012349</td>\n",
       "      <td>0.004529</td>\n",
       "      <td>0.005649</td>\n",
       "    </tr>\n",
       "    <tr>\n",
       "      <th>2024-03-20</th>\n",
       "      <td>0.000119</td>\n",
       "      <td>0.012515</td>\n",
       "      <td>0.008904</td>\n",
       "    </tr>\n",
       "    <tr>\n",
       "      <th>...</th>\n",
       "      <td>...</td>\n",
       "      <td>...</td>\n",
       "      <td>...</td>\n",
       "    </tr>\n",
       "    <tr>\n",
       "      <th>2024-09-09</th>\n",
       "      <td>0.005227</td>\n",
       "      <td>0.001226</td>\n",
       "      <td>0.011580</td>\n",
       "    </tr>\n",
       "    <tr>\n",
       "      <th>2024-09-10</th>\n",
       "      <td>-0.002198</td>\n",
       "      <td>-0.003095</td>\n",
       "      <td>0.004473</td>\n",
       "    </tr>\n",
       "    <tr>\n",
       "      <th>2024-09-11</th>\n",
       "      <td>0.014075</td>\n",
       "      <td>0.002658</td>\n",
       "      <td>0.010665</td>\n",
       "    </tr>\n",
       "    <tr>\n",
       "      <th>2024-09-12</th>\n",
       "      <td>0.000795</td>\n",
       "      <td>-0.004812</td>\n",
       "      <td>0.007495</td>\n",
       "    </tr>\n",
       "    <tr>\n",
       "      <th>2024-09-13</th>\n",
       "      <td>-0.017645</td>\n",
       "      <td>0.006364</td>\n",
       "      <td>0.005408</td>\n",
       "    </tr>\n",
       "  </tbody>\n",
       "</table>\n",
       "<p>125 rows × 3 columns</p>\n",
       "</div>"
      ],
      "text/plain": [
       "               DOLAR  IBOVESPA    S&P500\n",
       "Date                                    \n",
       "2024-03-14       NaN       NaN       NaN\n",
       "2024-03-15  0.004729 -0.007424 -0.006483\n",
       "2024-03-18 -0.004938  0.001673  0.006318\n",
       "2024-03-19  0.012349  0.004529  0.005649\n",
       "2024-03-20  0.000119  0.012515  0.008904\n",
       "...              ...       ...       ...\n",
       "2024-09-09  0.005227  0.001226  0.011580\n",
       "2024-09-10 -0.002198 -0.003095  0.004473\n",
       "2024-09-11  0.014075  0.002658  0.010665\n",
       "2024-09-12  0.000795 -0.004812  0.007495\n",
       "2024-09-13 -0.017645  0.006364  0.005408\n",
       "\n",
       "[125 rows x 3 columns]"
      ]
     },
     "execution_count": 19,
     "metadata": {},
     "output_type": "execute_result"
    }
   ],
   "source": [
    "retornos_diarios = dados_mercado.pct_change() \n",
    "\n",
    "retornos_diarios"
   ]
  },
  {
   "cell_type": "code",
   "execution_count": 20,
   "id": "79ece83c-a3c2-43b1-9c5e-2bcbe385f5dc",
   "metadata": {},
   "outputs": [],
   "source": [
    "retorno_dolar = retornos_diarios[\"DOLAR\"].iloc[-1]\n",
    "retorno_ibovespa = retornos_diarios[\"IBOVESPA\"].iloc[-1]\n",
    "retorno_sp = retornos_diarios[\"S&P500\"].iloc[-1]"
   ]
  },
  {
   "cell_type": "code",
   "execution_count": 21,
   "id": "ff8a689c-ef53-4b54-8a77-f0da4ddeda27",
   "metadata": {},
   "outputs": [
    {
     "data": {
      "text/plain": [
       "'-1.76%'"
      ]
     },
     "execution_count": 21,
     "metadata": {},
     "output_type": "execute_result"
    }
   ],
   "source": [
    "retorno_dolar = str(round(retorno_dolar * 100, 2)) + \"%\" \n",
    "\n",
    "retorno_dolar"
   ]
  },
  {
   "cell_type": "code",
   "execution_count": 22,
   "id": "47a88c3a-dc02-4ed7-81fc-6bc1c13931fc",
   "metadata": {},
   "outputs": [
    {
     "data": {
      "text/plain": [
       "'0.54%'"
      ]
     },
     "execution_count": 22,
     "metadata": {},
     "output_type": "execute_result"
    }
   ],
   "source": [
    "retorno_ibovespa = str(round(retorno_ibovespa * 100, 2)) + \"%\"\n",
    "retorno_sp = str(round(retorno_sp * 100, 2)) + \"%\"\n",
    "\n",
    "retorno_sp "
   ]
  },
  {
   "cell_type": "code",
   "execution_count": 23,
   "id": "51a2c1c9-ede5-49e1-bee5-c59e7fb96366",
   "metadata": {},
   "outputs": [
    {
     "data": {
      "text/plain": [
       "'0.64%'"
      ]
     },
     "execution_count": 23,
     "metadata": {},
     "output_type": "execute_result"
    }
   ],
   "source": [
    "retorno_ibovespa"
   ]
  },
  {
   "cell_type": "code",
   "execution_count": 24,
   "id": "403042ac-bfa6-4e60-a486-2e8d97675f3d",
   "metadata": {},
   "outputs": [],
   "source": [
    "import win32com.client as win32 "
   ]
  },
  {
   "cell_type": "code",
   "execution_count": 25,
   "id": "c67b9b47-7fb2-4f65-82be-a18f3217ea22",
   "metadata": {},
   "outputs": [],
   "source": [
    "outlook = win32.Dispatch(\"outlook.application\") \n",
    "\n",
    "email = outlook.CreateItem(0)"
   ]
  },
  {
   "cell_type": "code",
   "execution_count": 81,
   "id": "a8b24fbe-fb1a-42c0-b2fa-2feb0936d028",
   "metadata": {},
   "outputs": [],
   "source": [
    "email.To = \"aaa@bbb.com.br\"\n",
    "email.Subject = \"Relatório de Mercado\"\n",
    "email.Body = f'''Prezado diretor, segue o relatório de mercado:\n",
    "\n",
    "* O Ibovespa teve o retorno de {retorno_ibovespa}.\n",
    "* O Dólar teve o retorno de {retorno_dolar}.\n",
    "* O S&P500 teve o retorno de {retorno_sp}.\n",
    "\n",
    "Segue em anexo a peformance dos ativos nos últimos 5 anos.\n",
    "\n",
    "Att,\n",
    "Melhor estagiário do mundo!\n",
    "\n",
    "\n",
    "''' \n",
    "\n",
    "anexo_ibovespa = r\"C:\\Users\\VINICIUS\\Downloads\\ibovespa.png\"\n",
    "anexo_dolar = r\"C:\\Users\\VINICIUS\\Downloads\\dolar.png\"\n",
    "anexo_sp = r\"C:\\Users\\VINICIUS\\Downloads\\sp500.png\" \n",
    "\n",
    "email.Attachments.Add(anexo_ibovespa)\n",
    "email.Attachments.Add(anexo_dolar)\n",
    "email.Attachments.Add(anexo_sp)\n",
    "\n",
    "email.Send()"
   ]
  },
  {
   "cell_type": "code",
   "execution_count": null,
   "id": "00b55eae-24ab-44a4-b9c0-19351589c7c2",
   "metadata": {},
   "outputs": [],
   "source": []
  },
  {
   "cell_type": "code",
   "execution_count": null,
   "id": "8b77f8a9-ff9a-4aa7-9a33-6e15faa13d96",
   "metadata": {},
   "outputs": [],
   "source": []
  },
  {
   "cell_type": "code",
   "execution_count": null,
   "id": "0e50d2bb-39ec-4c11-bf01-f1aa435fe0ca",
   "metadata": {},
   "outputs": [],
   "source": []
  }
 ],
 "metadata": {
  "kernelspec": {
   "display_name": "Python 3 (ipykernel)",
   "language": "python",
   "name": "python3"
  },
  "language_info": {
   "codemirror_mode": {
    "name": "ipython",
    "version": 3
   },
   "file_extension": ".py",
   "mimetype": "text/x-python",
   "name": "python",
   "nbconvert_exporter": "python",
   "pygments_lexer": "ipython3",
   "version": "3.11.7"
  }
 },
 "nbformat": 4,
 "nbformat_minor": 5
}
